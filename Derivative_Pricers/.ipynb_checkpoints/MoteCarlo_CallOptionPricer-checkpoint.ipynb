{
 "cells": [
  {
   "cell_type": "markdown",
   "id": "8b47c977",
   "metadata": {},
   "source": [
    "## Montecarlo for Call option"
   ]
  },
  {
   "cell_type": "markdown",
   "id": "f52f746b",
   "metadata": {},
   "source": [
    "\n",
    "Call option: OPtion to buy the stock for strike price, $K$ at maturity $T$\n",
    "\n",
    "Pay_off_call_option = $max(S_T-K,0)$  \n",
    "PV(call_option) = $C(S_t,T)$ ?  \n",
    "$C(S_t,T) = Discount*Expect(max(S_T-K,0)|S_0)$"
   ]
  },
  {
   "cell_type": "markdown",
   "id": "f68dc832",
   "metadata": {},
   "source": [
    "\n",
    "### Black Schole's assumption\n",
    "\n",
    "1. S_t follows a geometrix brownian motion. \n",
    "2. Known risk-free interest rate. \n",
    "3. No transaction costs. \n",
    "4. Known volaitlity. "
   ]
  },
  {
   "cell_type": "code",
   "execution_count": 209,
   "id": "a8bfeee2",
   "metadata": {},
   "outputs": [],
   "source": [
    "interest_rate = 0.02 #yearly continuously compuneded\n",
    "maturity = 1\n",
    "risk_free_disc = math.exp(-interest_rate*maturity)\n",
    "risk_free_interest = 0.02\n"
   ]
  },
  {
   "cell_type": "code",
   "execution_count": 132,
   "id": "8cc936b9",
   "metadata": {},
   "outputs": [],
   "source": [
    "import pandas as pd\n",
    "import yfinance as yf"
   ]
  },
  {
   "cell_type": "code",
   "execution_count": 137,
   "id": "232f087a",
   "metadata": {},
   "outputs": [],
   "source": [
    "aapl_df = yf.download('AAPL', \n",
    "                      start='2019-01-01', \n",
    "                      end='2021-06-12', \n",
    "                      progress=False,\n",
    ")\n",
    "\n",
    "appl_stock_values = list(aapl_df[\"Close\"].values)"
   ]
  },
  {
   "cell_type": "code",
   "execution_count": 178,
   "id": "a4b90a72",
   "metadata": {},
   "outputs": [],
   "source": [
    "vol = np.std(appl_stock_values[-10:])**2\n",
    "vol = 0.397"
   ]
  },
  {
   "cell_type": "markdown",
   "id": "0af395ab",
   "metadata": {},
   "source": [
    "#### We are pricing in risk neutral measure. \n",
    "- THe drift of the stock is risk-free interest rate r. "
   ]
  },
  {
   "cell_type": "code",
   "execution_count": 179,
   "id": "38725d57",
   "metadata": {},
   "outputs": [
    {
     "name": "stdout",
     "output_type": "stream",
     "text": [
      "current price: 127.3499984741211\n",
      "strike price: 140.08499832153322\n"
     ]
    }
   ],
   "source": [
    "curr_stock_price = appl_stock_values[-1]\n",
    "strike_price = curr_stock_price*(1.1)\n",
    "print(\"current price:\", curr_stock_price)\n",
    "print(\"strike price:\",strike_price)"
   ]
  },
  {
   "cell_type": "markdown",
   "id": "f06b7240",
   "metadata": {},
   "source": [
    "## Strategy:\n",
    "\n",
    "- We are going to use the analytical form of the stock price in risk neutral pricing framework:\n",
    "- $S_T = S_0\\times exp(t\\times(r-\\sigma^2/2)+\\sigma\\times W(t))$\n",
    "- We use monte carlo simulations to simulate different path for $S_T$, find the discounted pay off and average to get the expected price (using law of large numbers)."
   ]
  },
  {
   "cell_type": "code",
   "execution_count": 192,
   "id": "fe5cf09a",
   "metadata": {},
   "outputs": [
    {
     "data": {
      "text/plain": [
       "0.001"
      ]
     },
     "execution_count": 192,
     "metadata": {},
     "output_type": "execute_result"
    }
   ],
   "source": [
    "num_paths = 1000\n",
    "num_steps = 1000\n",
    "dt = maturity/num_steps\n",
    "dt"
   ]
  },
  {
   "cell_type": "code",
   "execution_count": 214,
   "id": "38dbc385",
   "metadata": {},
   "outputs": [],
   "source": [
    "stock_price_list = []\n",
    "for path in range(num_paths):\n",
    "    S_t = curr_stock_price\n",
    "    for step in range(num_steps):\n",
    "        S_t = S_t * math.exp(dt*(risk_free_interest-(vol**2)/2) + vol*math.sqrt(dt)*np.random.normal())\n",
    "    stock_price_list.append(S_t)"
   ]
  },
  {
   "cell_type": "code",
   "execution_count": 210,
   "id": "a06892b5",
   "metadata": {},
   "outputs": [],
   "source": [
    "stock_price_list = []\n",
    "for path in range(num_paths):\n",
    "    S_t = curr_stock_price\n",
    "    S_t = S_t * math.exp(maturity*(risk_free_interest-(vol**2)/2) + vol*math.sqrt(maturity)*np.random.normal())\n",
    "    \n",
    "#     for step in range(num_steps):\n",
    "#         S_t = S_t * math.exp(dt*(risk_free_disc-(vol**2)/2) + vol*math.sqrt(dt)*np.random.normal())\n",
    "    stock_price_list.append(S_t)"
   ]
  },
  {
   "cell_type": "code",
   "execution_count": 211,
   "id": "aef5752b",
   "metadata": {},
   "outputs": [],
   "source": [
    "pay_off_list = [max(stock_pr-strike_price,0) for stock_pr in stock_price_list]"
   ]
  },
  {
   "cell_type": "code",
   "execution_count": 212,
   "id": "9e1b7393",
   "metadata": {},
   "outputs": [],
   "source": [
    "exp_pay_off = sum(pay_off_list)/len(pay_off_list)"
   ]
  },
  {
   "cell_type": "code",
   "execution_count": 213,
   "id": "158b5d24",
   "metadata": {},
   "outputs": [
    {
     "data": {
      "text/plain": [
       "16.584315483973537"
      ]
     },
     "execution_count": 213,
     "metadata": {},
     "output_type": "execute_result"
    }
   ],
   "source": [
    "exp_pay_off"
   ]
  },
  {
   "cell_type": "markdown",
   "id": "b25d8f94",
   "metadata": {},
   "source": []
  }
 ],
 "metadata": {
  "kernelspec": {
   "display_name": "Python 3 (ipykernel)",
   "language": "python",
   "name": "python3"
  },
  "language_info": {
   "codemirror_mode": {
    "name": "ipython",
    "version": 3
   },
   "file_extension": ".py",
   "mimetype": "text/x-python",
   "name": "python",
   "nbconvert_exporter": "python",
   "pygments_lexer": "ipython3",
   "version": "3.8.13"
  }
 },
 "nbformat": 4,
 "nbformat_minor": 5
}
