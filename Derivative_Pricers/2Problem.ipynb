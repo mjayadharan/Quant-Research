{
 "cells": [
  {
   "cell_type": "markdown",
   "id": "fb808a4a",
   "metadata": {},
   "source": [
    "## Unlimited money case"
   ]
  },
  {
   "cell_type": "code",
   "execution_count": 7,
   "id": "ba6b9626",
   "metadata": {},
   "outputs": [],
   "source": [
    "import math\n",
    "import random\n",
    "import numpy as np"
   ]
  },
  {
   "cell_type": "code",
   "execution_count": 1,
   "id": "1558bd98",
   "metadata": {},
   "outputs": [],
   "source": [
    "money_limit = 10000.0"
   ]
  },
  {
   "cell_type": "code",
   "execution_count": null,
   "id": "0b6ab185",
   "metadata": {},
   "outputs": [],
   "source": [
    "random_numbers = "
   ]
  },
  {
   "cell_type": "markdown",
   "id": "59f502bb",
   "metadata": {},
   "source": [
    "### Buffon's need to find the value of pi."
   ]
  },
  {
   "cell_type": "markdown",
   "id": "65b71826",
   "metadata": {},
   "source": [
    "For the case where the length of the needle, $l$<$t$, where $t$ is the width of the lines. The probability of the needle touching the line is given by $P=(2l)/(\\pi t)$. \n",
    "\n",
    "- Let $x$ which be the distance from closest line to the middle of the needle and let $\\theta$ be the acute angle that it makes with one of the lines. Then $0\\le x \\le t/2$ and $0 \\le \\theta \\le \\pi/2$.\n",
    "- In the case of $l$<$t$, we can show that the needle intersect the line only if $x<\\frac{l}{2}\\sin (\\theta)$."
   ]
  },
  {
   "cell_type": "markdown",
   "id": "b0349bf0",
   "metadata": {},
   "source": [
    "Generating uniform random numbers in the range $[0,t/2] \\times [0,\\pi/2]$."
   ]
  },
  {
   "cell_type": "code",
   "execution_count": 67,
   "id": "c1dca333",
   "metadata": {},
   "outputs": [],
   "source": [
    "l = 0.3\n",
    "t = 1"
   ]
  },
  {
   "cell_type": "code",
   "execution_count": 86,
   "id": "ab29aa38",
   "metadata": {},
   "outputs": [],
   "source": [
    "num_sample = 1000000\n",
    "x_dist = (t/2)*numpy.random.random(num_sample)\n",
    "theta_angle = 0.5*numpy.pi*numpy.random.random(num_sample)\n",
    "distance_check = (l/2)*np.sin(theta_angle)"
   ]
  },
  {
   "cell_type": "code",
   "execution_count": 87,
   "id": "c94fb953",
   "metadata": {},
   "outputs": [],
   "source": [
    "intersected_set = x_dist[x_dist<distance_check]"
   ]
  },
  {
   "cell_type": "markdown",
   "id": "c7dbebf6",
   "metadata": {},
   "source": [
    "### Probability from monte carlo"
   ]
  },
  {
   "cell_type": "code",
   "execution_count": 88,
   "id": "ab76226a",
   "metadata": {},
   "outputs": [],
   "source": [
    "Prob_MC = len(intersected_set)/num_sample"
   ]
  },
  {
   "cell_type": "code",
   "execution_count": 89,
   "id": "622a5977",
   "metadata": {},
   "outputs": [
    {
     "data": {
      "text/plain": [
       "0.191332"
      ]
     },
     "execution_count": 89,
     "metadata": {},
     "output_type": "execute_result"
    }
   ],
   "source": [
    "Prob_MC"
   ]
  },
  {
   "cell_type": "markdown",
   "id": "853b4ee5",
   "metadata": {},
   "source": [
    "### Analytical probability"
   ]
  },
  {
   "cell_type": "code",
   "execution_count": 90,
   "id": "9a8136de",
   "metadata": {},
   "outputs": [
    {
     "data": {
      "text/plain": [
       "0.1909859317102744"
      ]
     },
     "execution_count": 90,
     "metadata": {},
     "output_type": "execute_result"
    }
   ],
   "source": [
    "Prob_analytic = (2*l)/(np.pi*t)\n",
    "Prob_analytic"
   ]
  },
  {
   "cell_type": "markdown",
   "id": "174481e4",
   "metadata": {},
   "source": [
    "## Approximating pi from the experiment"
   ]
  },
  {
   "cell_type": "code",
   "execution_count": 91,
   "id": "be658682",
   "metadata": {},
   "outputs": [
    {
     "data": {
      "text/plain": [
       "3.1359103547759912"
      ]
     },
     "execution_count": 91,
     "metadata": {},
     "output_type": "execute_result"
    }
   ],
   "source": [
    "pi_exp = (2*l)/(Prob_MC*t)\n",
    "pi_exp"
   ]
  },
  {
   "cell_type": "code",
   "execution_count": null,
   "id": "a7fc6b6d",
   "metadata": {},
   "outputs": [],
   "source": []
  }
 ],
 "metadata": {
  "kernelspec": {
   "display_name": "Python 3 (ipykernel)",
   "language": "python",
   "name": "python3"
  },
  "language_info": {
   "codemirror_mode": {
    "name": "ipython",
    "version": 3
   },
   "file_extension": ".py",
   "mimetype": "text/x-python",
   "name": "python",
   "nbconvert_exporter": "python",
   "pygments_lexer": "ipython3",
   "version": "3.8.13"
  }
 },
 "nbformat": 4,
 "nbformat_minor": 5
}
