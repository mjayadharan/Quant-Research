{
 "cells": [
  {
   "cell_type": "code",
   "execution_count": 1,
   "id": "456d8218",
   "metadata": {},
   "outputs": [],
   "source": [
    "import numpy as np\n",
    "import matplotlib.pyplot as plt\n",
    "import random"
   ]
  },
  {
   "cell_type": "markdown",
   "id": "09322355",
   "metadata": {},
   "source": [
    "## Negative exp dist\n",
    "\n",
    "Here we generate the negative exponential distribution which will be used in the Mote Carlo simulations later. \n",
    "- Use generate this using $F^-1(U)$, where $U$ is the uniform distribution and $F$ is the distribution of the negative exp distribution which is given by $F(t)=\\lambda exp(-\\lambda * t)$."
   ]
  },
  {
   "cell_type": "code",
   "execution_count": 99,
   "id": "89aebee7",
   "metadata": {},
   "outputs": [],
   "source": [
    "import math"
   ]
  },
  {
   "cell_type": "code",
   "execution_count": 100,
   "id": "2f34a06f",
   "metadata": {},
   "outputs": [],
   "source": [
    "def inverse_F(lam, u):\n",
    "    return (-1/lam)*math.log(1-u)"
   ]
  },
  {
   "cell_type": "code",
   "execution_count": 114,
   "id": "92de8ad0",
   "metadata": {},
   "outputs": [],
   "source": [
    "hazard = 0.8\n",
    "num_default_ = 10000\n",
    "default_times = [inverse_F(hazard, random.random()) for _ in range(num_default_)]"
   ]
  },
  {
   "cell_type": "code",
   "execution_count": 117,
   "id": "6b1b1614",
   "metadata": {},
   "outputs": [
    {
     "data": {
      "text/plain": [
       "1.2391521000116947"
      ]
     },
     "execution_count": 117,
     "metadata": {},
     "output_type": "execute_result"
    }
   ],
   "source": [
    "np.mean(default_times)"
   ]
  },
  {
   "cell_type": "markdown",
   "id": "9a5a446a",
   "metadata": {},
   "source": [
    "## Bond pricing"
   ]
  },
  {
   "cell_type": "markdown",
   "id": "bacc96cd",
   "metadata": {},
   "source": [
    "### How to price bonds\n",
    "\n",
    "- Sequence of cashflows. \n",
    "- Current price of bond is discounted cashflows to today. AKA PV or Present Value. \n",
    "\n",
    "Lets consider zero coupon bond: only one payment at the end (which is the face value of the bond). \n",
    "\n",
    "PV(bond) = discounted cash flows of the bond.\n",
    "In case of zero-coupon bond,\n",
    "PV(bond) = discounted Face value of the bond\n",
    "\n"
   ]
  },
  {
   "cell_type": "markdown",
   "id": "9e8b0c40",
   "metadata": {},
   "source": [
    "### Discount\n",
    "\n",
    "1. Risk free discount: THere is no risk involded. Discount using risk-free interest rate (coming from different sources). COudl be related to treasury bond yield, etc etc. \n",
    "2. Risky discount: risk_free_interest_rate + discounting_due_to_chance_of_default."
   ]
  },
  {
   "cell_type": "code",
   "execution_count": 122,
   "id": "d5aa9d6f",
   "metadata": {},
   "outputs": [],
   "source": [
    "interest_rate = 0.02 #yearly continuously compuneded\n",
    "time_year = 1\n",
    "risk_free_disc = math.exp(-interest_rate*time_year)\n",
    "bond_face_value = 100\n",
    "\n",
    "#Monte carlo for bond price\n",
    "bond_price_mc = risk_free_disc*sum([bond_face_value for def_time in default_times if def_time>1.0])/len(default_times)"
   ]
  },
  {
   "cell_type": "code",
   "execution_count": 123,
   "id": "3d9bdb46",
   "metadata": {},
   "outputs": [
    {
     "data": {
      "text/plain": [
       "43.785474736612755"
      ]
     },
     "execution_count": 123,
     "metadata": {},
     "output_type": "execute_result"
    }
   ],
   "source": [
    "bond_price_mc"
   ]
  },
  {
   "cell_type": "markdown",
   "id": "40478643",
   "metadata": {},
   "source": [
    "### We can generate the same without using the montecarlo paths using the analytic expectation of the payoff with the hazard rate model for the default time"
   ]
  },
  {
   "cell_type": "code",
   "execution_count": 124,
   "id": "58d4b3aa",
   "metadata": {},
   "outputs": [],
   "source": [
    "bond_price_anl = risk_free_disc * math.exp(-hazard *time_year) * bond_face_value"
   ]
  },
  {
   "cell_type": "code",
   "execution_count": 125,
   "id": "29ecbaa1",
   "metadata": {},
   "outputs": [
    {
     "data": {
      "text/plain": [
       "44.04316545059992"
      ]
     },
     "execution_count": 125,
     "metadata": {},
     "output_type": "execute_result"
    }
   ],
   "source": [
    "bond_price_anl"
   ]
  }
 ],
 "metadata": {
  "kernelspec": {
   "display_name": "Python 3 (ipykernel)",
   "language": "python",
   "name": "python3"
  },
  "language_info": {
   "codemirror_mode": {
    "name": "ipython",
    "version": 3
   },
   "file_extension": ".py",
   "mimetype": "text/x-python",
   "name": "python",
   "nbconvert_exporter": "python",
   "pygments_lexer": "ipython3",
   "version": "3.8.13"
  }
 },
 "nbformat": 4,
 "nbformat_minor": 5
}
