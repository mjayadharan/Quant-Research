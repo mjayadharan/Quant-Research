{
 "cells": [
  {
   "cell_type": "code",
   "execution_count": 2,
   "id": "456d8218",
   "metadata": {},
   "outputs": [],
   "source": [
    "import numpy as np\n",
    "import matplotlib.pyplot as plt\n",
    "import random"
   ]
  },
  {
   "cell_type": "code",
   "execution_count": 47,
   "id": "58bf98c6",
   "metadata": {},
   "outputs": [],
   "source": [
    "multi_matrix = np.matmul(random_arr, inv_matrix)"
   ]
  },
  {
   "cell_type": "code",
   "execution_count": 48,
   "id": "475152f0",
   "metadata": {},
   "outputs": [
    {
     "data": {
      "text/plain": [
       "array([1., 1., 1., 1., 1., 1., 1., 1., 1., 1.])"
      ]
     },
     "execution_count": 48,
     "metadata": {},
     "output_type": "execute_result"
    }
   ],
   "source": [
    "multi_matrix[multi_matrix>0.01]"
   ]
  },
  {
   "cell_type": "code",
   "execution_count": null,
   "id": "2ca4a335",
   "metadata": {},
   "outputs": [],
   "source": []
  },
  {
   "cell_type": "code",
   "execution_count": null,
   "id": "a3477ad4",
   "metadata": {},
   "outputs": [],
   "source": [
    "postiive_shit_matrix = np.matmul(random_arr, np.transpose())"
   ]
  },
  {
   "cell_type": "code",
   "execution_count": 55,
   "id": "e1c6b556",
   "metadata": {},
   "outputs": [],
   "source": [
    "random_selections = np.reshape(np.random.random(10000),(5000,2))"
   ]
  },
  {
   "cell_type": "code",
   "execution_count": null,
   "id": "2b845dc1",
   "metadata": {},
   "outputs": [],
   "source": [
    "import matplotlib.pyplot"
   ]
  },
  {
   "cell_type": "code",
   "execution_count": 60,
   "id": "aba85479",
   "metadata": {},
   "outputs": [
    {
     "data": {
      "text/plain": [
       "(array([[52., 54., 53., 54., 46., 46., 46., 53., 51., 56., 50., 59., 55.,\n",
       "         46., 51., 51., 51., 53., 55., 55., 48., 42., 45., 54., 56., 56.,\n",
       "         43., 43., 47., 48., 48., 42., 55., 39., 46., 51., 60., 43., 55.,\n",
       "         53., 49., 45., 48., 34., 56., 46., 45., 53., 63., 51., 56., 47.,\n",
       "         49., 54., 48., 59., 46., 53., 54., 47., 51., 56., 52., 43., 58.,\n",
       "         47., 52., 34., 48., 55., 54., 52., 36., 48., 48., 42., 57., 61.,\n",
       "         58., 38., 51., 54., 36., 38., 46., 47., 35., 34., 49., 57., 50.,\n",
       "         51., 47., 57., 62., 51., 63., 63., 47., 58.],\n",
       "        [47., 32., 42., 53., 49., 60., 54., 59., 54., 37., 47., 45., 52.,\n",
       "         49., 51., 66., 47., 46., 43., 41., 52., 49., 62., 39., 49., 45.,\n",
       "         47., 62., 42., 66., 45., 48., 58., 52., 42., 62., 55., 44., 53.,\n",
       "         44., 65., 56., 42., 56., 62., 43., 54., 46., 47., 54., 64., 41.,\n",
       "         46., 43., 47., 59., 46., 53., 41., 55., 53., 42., 52., 47., 43.,\n",
       "         60., 49., 61., 53., 58., 47., 53., 42., 39., 54., 55., 54., 52.,\n",
       "         49., 56., 46., 42., 55., 36., 39., 59., 63., 49., 46., 49., 53.,\n",
       "         44., 49., 57., 46., 58., 53., 35., 44., 48.]]),\n",
       " array([1.28130888e-04, 1.01266397e-02, 2.01251486e-02, 3.01236574e-02,\n",
       "        4.01221663e-02, 5.01206751e-02, 6.01191840e-02, 7.01176928e-02,\n",
       "        8.01162017e-02, 9.01147105e-02, 1.00113219e-01, 1.10111728e-01,\n",
       "        1.20110237e-01, 1.30108746e-01, 1.40107255e-01, 1.50105764e-01,\n",
       "        1.60104272e-01, 1.70102781e-01, 1.80101290e-01, 1.90099799e-01,\n",
       "        2.00098308e-01, 2.10096817e-01, 2.20095326e-01, 2.30093834e-01,\n",
       "        2.40092343e-01, 2.50090852e-01, 2.60089361e-01, 2.70087870e-01,\n",
       "        2.80086379e-01, 2.90084887e-01, 3.00083396e-01, 3.10081905e-01,\n",
       "        3.20080414e-01, 3.30078923e-01, 3.40077432e-01, 3.50075941e-01,\n",
       "        3.60074449e-01, 3.70072958e-01, 3.80071467e-01, 3.90069976e-01,\n",
       "        4.00068485e-01, 4.10066994e-01, 4.20065502e-01, 4.30064011e-01,\n",
       "        4.40062520e-01, 4.50061029e-01, 4.60059538e-01, 4.70058047e-01,\n",
       "        4.80056556e-01, 4.90055064e-01, 5.00053573e-01, 5.10052082e-01,\n",
       "        5.20050591e-01, 5.30049100e-01, 5.40047609e-01, 5.50046117e-01,\n",
       "        5.60044626e-01, 5.70043135e-01, 5.80041644e-01, 5.90040153e-01,\n",
       "        6.00038662e-01, 6.10037171e-01, 6.20035679e-01, 6.30034188e-01,\n",
       "        6.40032697e-01, 6.50031206e-01, 6.60029715e-01, 6.70028224e-01,\n",
       "        6.80026732e-01, 6.90025241e-01, 7.00023750e-01, 7.10022259e-01,\n",
       "        7.20020768e-01, 7.30019277e-01, 7.40017786e-01, 7.50016294e-01,\n",
       "        7.60014803e-01, 7.70013312e-01, 7.80011821e-01, 7.90010330e-01,\n",
       "        8.00008839e-01, 8.10007347e-01, 8.20005856e-01, 8.30004365e-01,\n",
       "        8.40002874e-01, 8.50001383e-01, 8.59999892e-01, 8.69998401e-01,\n",
       "        8.79996909e-01, 8.89995418e-01, 8.99993927e-01, 9.09992436e-01,\n",
       "        9.19990945e-01, 9.29989454e-01, 9.39987962e-01, 9.49986471e-01,\n",
       "        9.59984980e-01, 9.69983489e-01, 9.79981998e-01, 9.89980507e-01,\n",
       "        9.99979016e-01]),\n",
       " <a list of 2 BarContainer objects>)"
      ]
     },
     "execution_count": 60,
     "metadata": {},
     "output_type": "execute_result"
    },
    {
     "data": {
      "image/png": "[encoded data removed]",
      "text/plain": [
       "<Figure size 432x288 with 1 Axes>"
      ]
     },
     "metadata": {
      "needs_background": "light"
     },
     "output_type": "display_data"
    }
   ],
   "source": [
    "plt.hist(random_selections, bins=100)"
   ]
  },
  {
   "cell_type": "code",
   "execution_count": 71,
   "id": "19234132",
   "metadata": {},
   "outputs": [],
   "source": [
    "num_inside_circle = [1  for tup in random_selections if sum(tup**2)<1]"
   ]
  },
  {
   "cell_type": "code",
   "execution_count": 78,
   "id": "dbae7c21",
   "metadata": {},
   "outputs": [
    {
     "data": {
      "text/plain": [
       "3.1536"
      ]
     },
     "execution_count": 78,
     "metadata": {},
     "output_type": "execute_result"
    }
   ],
   "source": [
    "sum(num_inside_circle)/len(random_selections)*4"
   ]
  },
  {
   "cell_type": "code",
   "execution_count": null,
   "id": "c9814a95",
   "metadata": {},
   "outputs": [],
   "source": []
  },
  {
   "cell_type": "code",
   "execution_count": null,
   "id": "7399e29c",
   "metadata": {},
   "outputs": [],
   "source": []
  },
  {
   "cell_type": "code",
   "execution_count": null,
   "id": "409ec4f5",
   "metadata": {},
   "outputs": [],
   "source": []
  },
  {
   "cell_type": "code",
   "execution_count": null,
   "id": "d4e676c2",
   "metadata": {},
   "outputs": [],
   "source": []
  },
  {
   "cell_type": "code",
   "execution_count": 79,
   "id": "d0d4854d",
   "metadata": {},
   "outputs": [],
   "source": [
    "import random"
   ]
  },
  {
   "cell_type": "code",
   "execution_count": null,
   "id": "0536e654",
   "metadata": {},
   "outputs": [],
   "source": []
  },
  {
   "cell_type": "code",
   "execution_count": 81,
   "id": "75aeae03",
   "metadata": {},
   "outputs": [
    {
     "data": {
      "text/plain": [
       "0.1856551861172384"
      ]
     },
     "execution_count": 81,
     "metadata": {},
     "output_type": "execute_result"
    }
   ],
   "source": [
    "random.random()"
   ]
  },
  {
   "cell_type": "code",
   "execution_count": 93,
   "id": "2d5e02ba",
   "metadata": {},
   "outputs": [],
   "source": [
    "N = 1000\n",
    "number_of_norm = 10000\n",
    "normal_array = [(sum([random.random() for _ in range(N)])/N-(0.5))/(np.sqrt(1/12)/np.sqrt(N)) for __ in range(number_of_norm)]"
   ]
  },
  {
   "cell_type": "code",
   "execution_count": 95,
   "id": "6660722e",
   "metadata": {},
   "outputs": [
    {
     "data": {
      "text/plain": [
       "(array([  2.,   1.,   1.,   3.,   0.,   3.,   4.,   3.,   5.,   3.,   9.,\n",
       "          9.,  11.,  15.,  24.,  21.,  32.,  27.,  43.,  48.,  64.,  70.,\n",
       "         77.,  92., 116., 116., 143., 139., 156., 203., 239., 224., 226.,\n",
       "        287., 307., 282., 292., 300., 311., 309., 332., 346., 346., 328.,\n",
       "        334., 344., 334., 346., 291., 284., 277., 248., 209., 201., 187.,\n",
       "        201., 156., 122., 142., 133.,  79.,  83.,  81.,  84.,  56.,  42.,\n",
       "         42.,  31.,  23.,  18.,  23.,   8.,   7.,  13.,   4.,   6.,   6.,\n",
       "          5.,   2.,   1.,   3.,   3.,   0.,   1.,   0.,   0.,   0.,   0.,\n",
       "          0.,   0.,   0.,   0.,   0.,   0.,   0.,   0.,   0.,   0.,   0.,\n",
       "          1.]),\n",
       " array([-3.63381413, -3.54789944, -3.46198476, -3.37607007, -3.29015539,\n",
       "        -3.2042407 , -3.11832602, -3.03241133, -2.94649665, -2.86058196,\n",
       "        -2.77466728, -2.68875259, -2.60283791, -2.51692322, -2.43100854,\n",
       "        -2.34509385, -2.25917917, -2.17326448, -2.0873498 , -2.00143511,\n",
       "        -1.91552043, -1.82960574, -1.74369106, -1.65777637, -1.57186169,\n",
       "        -1.485947  , -1.40003232, -1.31411763, -1.22820295, -1.14228826,\n",
       "        -1.05637358, -0.97045889, -0.88454421, -0.79862952, -0.71271484,\n",
       "        -0.62680015, -0.54088547, -0.45497078, -0.3690561 , -0.28314141,\n",
       "        -0.19722673, -0.11131204, -0.02539736,  0.06051733,  0.14643201,\n",
       "         0.2323467 ,  0.31826138,  0.40417607,  0.49009075,  0.57600544,\n",
       "         0.66192012,  0.74783481,  0.83374949,  0.91966418,  1.00557886,\n",
       "         1.09149355,  1.17740823,  1.26332292,  1.3492376 ,  1.43515229,\n",
       "         1.52106697,  1.60698166,  1.69289634,  1.77881103,  1.86472571,\n",
       "         1.9506404 ,  2.03655508,  2.12246977,  2.20838445,  2.29429914,\n",
       "         2.38021382,  2.46612851,  2.55204319,  2.63795788,  2.72387256,\n",
       "         2.80978725,  2.89570193,  2.98161662,  3.0675313 ,  3.15344599,\n",
       "         3.23936067,  3.32527536,  3.41119004,  3.49710473,  3.58301941,\n",
       "         3.6689341 ,  3.75484878,  3.84076347,  3.92667815,  4.01259284,\n",
       "         4.09850752,  4.18442221,  4.27033689,  4.35625158,  4.44216626,\n",
       "         4.52808095,  4.61399563,  4.69991032,  4.785825  ,  4.87173968,\n",
       "         4.95765437]),\n",
       " <BarContainer object of 100 artists>)"
      ]
     },
     "execution_count": 95,
     "metadata": {},
     "output_type": "execute_result"
    },
    {
     "data": {
      "image/png": "[encoded data removed]",
      "text/plain": [
       "<Figure size 432x288 with 1 Axes>"
      ]
     },
     "metadata": {
      "needs_background": "light"
     },
     "output_type": "display_data"
    }
   ],
   "source": [
    "plt.hist(normal_array,bins=100)"
   ]
  },
  {
   "cell_type": "code",
   "execution_count": 92,
   "id": "2ff7a0a6",
   "metadata": {},
   "outputs": [
    {
     "data": {
      "text/plain": [
       "0.9877166556025767"
      ]
     },
     "execution_count": 92,
     "metadata": {},
     "output_type": "execute_result"
    }
   ],
   "source": [
    "np.std(normal_array)"
   ]
  },
  {
   "cell_type": "code",
   "execution_count": 97,
   "id": "2588bc40",
   "metadata": {},
   "outputs": [],
   "source": [
    "new_normal = np.random.normal(0,1,10000)"
   ]
  },
  {
   "cell_type": "markdown",
   "id": "09322355",
   "metadata": {},
   "source": [
    "## Negative exp dist"
   ]
  },
  {
   "cell_type": "code",
   "execution_count": 99,
   "id": "89aebee7",
   "metadata": {},
   "outputs": [],
   "source": [
    "import math"
   ]
  },
  {
   "cell_type": "code",
   "execution_count": 100,
   "id": "2f34a06f",
   "metadata": {},
   "outputs": [],
   "source": [
    "def inverse_F(lam, u):\n",
    "    return (-1/lam)*math.log(1-u)"
   ]
  },
  {
   "cell_type": "code",
   "execution_count": 114,
   "id": "92de8ad0",
   "metadata": {},
   "outputs": [],
   "source": [
    "hazard = 0.8\n",
    "num_default_ = 10000\n",
    "default_times = [inverse_F(hazard, random.random()) for _ in range(num_default_)]"
   ]
  },
  {
   "cell_type": "code",
   "execution_count": 117,
   "id": "6b1b1614",
   "metadata": {},
   "outputs": [
    {
     "data": {
      "text/plain": [
       "1.2391521000116947"
      ]
     },
     "execution_count": 117,
     "metadata": {},
     "output_type": "execute_result"
    }
   ],
   "source": [
    "np.mean(default_times)"
   ]
  },
  {
   "cell_type": "markdown",
   "id": "9a5a446a",
   "metadata": {},
   "source": [
    "## Bond pricing"
   ]
  },
  {
   "cell_type": "markdown",
   "id": "bacc96cd",
   "metadata": {},
   "source": [
    "### How to price bonds\n",
    "\n",
    "- Sequence of cashflows. \n",
    "- Current price of bond is dicounted cashflows to today. AKA PV or Present Value. \n",
    "\n",
    "Lets consider zero coupon bond: only one payment at the end (which is the face value of the bond). \n",
    "\n",
    "PV(bond) = discounted cash flows of the bond.\n",
    "In case of zero-coupon bond,\n",
    "PV(bond) = discounted Face value of the bond\n",
    "\n"
   ]
  },
  {
   "cell_type": "markdown",
   "id": "9e8b0c40",
   "metadata": {},
   "source": [
    "### Discount\n",
    "\n",
    "1. Risk free discount: THere is no risk involded. Discount using risk-free interest rate (coming from different sources). COudl be related to treasury bond yield, etc etc. \n",
    "2. Risky discount: risk_free_interest_rate + discounting_due_to_chance_of_default."
   ]
  },
  {
   "cell_type": "code",
   "execution_count": 122,
   "id": "d5aa9d6f",
   "metadata": {},
   "outputs": [],
   "source": [
    "interest_rate = 0.02 #yearly continuously compuneded\n",
    "time_year = 1\n",
    "risk_free_disc = math.exp(-interest_rate*time_year)\n",
    "bond_face_value = 100\n",
    "\n",
    "#Monte carlo for bond price\n",
    "bond_price_mc = risk_free_disc*sum([bond_face_value for def_time in default_times if def_time>1.0])/len(default_times)"
   ]
  },
  {
   "cell_type": "code",
   "execution_count": 123,
   "id": "3d9bdb46",
   "metadata": {},
   "outputs": [
    {
     "data": {
      "text/plain": [
       "43.785474736612755"
      ]
     },
     "execution_count": 123,
     "metadata": {},
     "output_type": "execute_result"
    }
   ],
   "source": [
    "bond_price_mc"
   ]
  },
  {
   "cell_type": "code",
   "execution_count": 124,
   "id": "58d4b3aa",
   "metadata": {},
   "outputs": [],
   "source": [
    "bond_price_anl = risk_free_disc * math.exp(-hazard *time_year) * bond_face_value"
   ]
  },
  {
   "cell_type": "code",
   "execution_count": 125,
   "id": "29ecbaa1",
   "metadata": {},
   "outputs": [
    {
     "data": {
      "text/plain": [
       "44.04316545059992"
      ]
     },
     "execution_count": 125,
     "metadata": {},
     "output_type": "execute_result"
    }
   ],
   "source": [
    "bond_price_anl"
   ]
  },
  {
   "cell_type": "code",
   "execution_count": null,
   "id": "876046c3",
   "metadata": {},
   "outputs": [],
   "source": []
  },
  {
   "cell_type": "markdown",
   "id": "8b47c977",
   "metadata": {},
   "source": [
    "## Montecarlo for Call option"
   ]
  },
  {
   "cell_type": "markdown",
   "id": "f52f746b",
   "metadata": {},
   "source": [
    "\n",
    "Call option: OPtion to buy the stock for strike price, $K$ at maturity $T$\n",
    "\n",
    "Pay_off_call_option = $max(S_T-K,0)$  \n",
    "PV(call_option) = $C(S_t,T)$ ?  \n",
    "$C(S_t,T) = Discount*Expect(max(S_T-K,0)|S_0)$"
   ]
  },
  {
   "cell_type": "markdown",
   "id": "f68dc832",
   "metadata": {},
   "source": [
    "\n",
    "### Black Schole's assumption\n",
    "\n",
    "1. S_t follows a geometrix brownian motion. \n",
    "2. Known risk-free interest rate. \n",
    "3. No transaction costs. \n",
    "4. Known volaitlity. "
   ]
  },
  {
   "cell_type": "code",
   "execution_count": 209,
   "id": "a8bfeee2",
   "metadata": {},
   "outputs": [],
   "source": [
    "interest_rate = 0.02 #yearly continuously compuneded\n",
    "maturity = 1\n",
    "risk_free_disc = math.exp(-interest_rate*maturity)\n",
    "risk_free_interest = 0.02\n"
   ]
  },
  {
   "cell_type": "code",
   "execution_count": 132,
   "id": "8cc936b9",
   "metadata": {},
   "outputs": [],
   "source": [
    "import pandas as pd\n",
    "import yfinance as yf"
   ]
  },
  {
   "cell_type": "code",
   "execution_count": 137,
   "id": "232f087a",
   "metadata": {},
   "outputs": [],
   "source": [
    "aapl_df = yf.download('AAPL', \n",
    "                      start='2019-01-01', \n",
    "                      end='2021-06-12', \n",
    "                      progress=False,\n",
    ")\n",
    "\n",
    "appl_stock_values = list(aapl_df[\"Close\"].values)"
   ]
  },
  {
   "cell_type": "code",
   "execution_count": 178,
   "id": "a4b90a72",
   "metadata": {},
   "outputs": [],
   "source": [
    "vol = np.std(appl_stock_values[-10:])**2\n",
    "vol = 0.397"
   ]
  },
  {
   "cell_type": "markdown",
   "id": "0af395ab",
   "metadata": {},
   "source": [
    "#### We are pricing in risk neutral measure. \n",
    "- THe drift of the stock is risk-free interest rate r. "
   ]
  },
  {
   "cell_type": "code",
   "execution_count": 179,
   "id": "38725d57",
   "metadata": {},
   "outputs": [
    {
     "name": "stdout",
     "output_type": "stream",
     "text": [
      "current price: 127.3499984741211\n",
      "strike price: 140.08499832153322\n"
     ]
    }
   ],
   "source": [
    "curr_stock_price = appl_stock_values[-1]\n",
    "strike_price = curr_stock_price*(1.1)\n",
    "print(\"current price:\", curr_stock_price)\n",
    "print(\"strike price:\",strike_price)"
   ]
  },
  {
   "cell_type": "markdown",
   "id": "f06b7240",
   "metadata": {},
   "source": [
    "## Strategy:\n",
    "\n",
    "- We are going to use the analytical form of the stock price in risk neutral pricing framework:\n",
    "- $S_T = S_0\\times exp(t\\times(r-\\sigma^2/2)+\\sigma\\times W(t))$\n",
    "- We use monte carlo simulations to simulate different path for $S_T$, find the discounted pay off and average to get the expected price (using law of large numbers)."
   ]
  },
  {
   "cell_type": "code",
   "execution_count": 192,
   "id": "fe5cf09a",
   "metadata": {},
   "outputs": [
    {
     "data": {
      "text/plain": [
       "0.001"
      ]
     },
     "execution_count": 192,
     "metadata": {},
     "output_type": "execute_result"
    }
   ],
   "source": [
    "num_paths = 1000\n",
    "num_steps = 1000\n",
    "dt = maturity/num_steps\n",
    "dt"
   ]
  },
  {
   "cell_type": "code",
   "execution_count": 214,
   "id": "38dbc385",
   "metadata": {},
   "outputs": [],
   "source": [
    "stock_price_list = []\n",
    "for path in range(num_paths):\n",
    "    S_t = curr_stock_price\n",
    "    for step in range(num_steps):\n",
    "        S_t = S_t * math.exp(dt*(risk_free_interest-(vol**2)/2) + vol*math.sqrt(dt)*np.random.normal())\n",
    "    stock_price_list.append(S_t)"
   ]
  },
  {
   "cell_type": "code",
   "execution_count": 210,
   "id": "a06892b5",
   "metadata": {},
   "outputs": [],
   "source": [
    "stock_price_list = []\n",
    "for path in range(num_paths):\n",
    "    S_t = curr_stock_price\n",
    "    S_t = S_t * math.exp(maturity*(risk_free_interest-(vol**2)/2) + vol*math.sqrt(maturity)*np.random.normal())\n",
    "    \n",
    "#     for step in range(num_steps):\n",
    "#         S_t = S_t * math.exp(dt*(risk_free_disc-(vol**2)/2) + vol*math.sqrt(dt)*np.random.normal())\n",
    "    stock_price_list.append(S_t)"
   ]
  },
  {
   "cell_type": "code",
   "execution_count": 211,
   "id": "aef5752b",
   "metadata": {},
   "outputs": [],
   "source": [
    "pay_off_list = [max(stock_pr-strike_price,0) for stock_pr in stock_price_list]"
   ]
  },
  {
   "cell_type": "code",
   "execution_count": 212,
   "id": "9e1b7393",
   "metadata": {},
   "outputs": [],
   "source": [
    "exp_pay_off = sum(pay_off_list)/len(pay_off_list)"
   ]
  },
  {
   "cell_type": "code",
   "execution_count": 213,
   "id": "158b5d24",
   "metadata": {},
   "outputs": [
    {
     "data": {
      "text/plain": [
       "16.584315483973537"
      ]
     },
     "execution_count": 213,
     "metadata": {},
     "output_type": "execute_result"
    }
   ],
   "source": [
    "exp_pay_off"
   ]
  },
  {
   "cell_type": "markdown",
   "id": "b25d8f94",
   "metadata": {},
   "source": []
  }
 ],
 "metadata": {
  "kernelspec": {
   "display_name": "Python 3 (ipykernel)",
   "language": "python",
   "name": "python3"
  },
  "language_info": {
   "codemirror_mode": {
    "name": "ipython",
    "version": 3
   },
   "file_extension": ".py",
   "mimetype": "text/x-python",
   "name": "python",
   "nbconvert_exporter": "python",
   "pygments_lexer": "ipython3",
   "version": "3.8.13"
  }
 },
 "nbformat": 4,
 "nbformat_minor": 5
}
