{
 "cells": [
  {
   "cell_type": "markdown",
   "id": "68457d5d",
   "metadata": {},
   "source": [
    "# List of lectures"
   ]
  },
  {
   "cell_type": "code",
   "execution_count": 3,
   "id": "93d05974",
   "metadata": {},
   "outputs": [
    {
     "data": {
      "text/plain": [
       "'http://localhost:8888/notebooks/Quant-Research'"
      ]
     },
     "execution_count": 3,
     "metadata": {},
     "output_type": "execute_result"
    }
   ],
   "source": [
    "local_host_address = 'http://localhost:8888/notebooks/Quant-Research'\n",
    "local_host_address"
   ]
  },
  {
   "cell_type": "markdown",
   "id": "5a89ad65",
   "metadata": {},
   "source": [
    "Lecture 1: Introduction to Research — [[📝Lecture Notebooks](http://localhost:8888/notebooks/Quant-Research/Introduction_to_Research)] [[▶️Video](https://www.youtube.com/watch?v=W-TlWzwM208)]\\\n",
    "Lecture 2: Introduction to Python — [[📝Lecture Notebooks](http://localhost:8888/notebooks/Quant-Research/Introduction_to_Python)] [[▶️Video](https://www.youtube.com/watch?v=bQUWLkKzpxE)]\\\n",
    "Lecture 3: Introduction to NumPy — [[📝Lecture Notebooks](http://localhost:8888/notebooks/Quant-Research/Introduction_to_NumPy)] [[▶️Video](https://www.youtube.com/watch?v=48RqKyD6fas)]\\\n",
    "Lecture 4: Introduction to pandas — [[📝Lecture Notebooks](http://localhost:8888/notebooks/Quant-Research/Introduction_to_Pandas)] [[▶️Video](https://www.youtube.com/watch?v=pAkEuv1lj08)]\\\n",
    "Lecture 5: Plotting Data — [[📝Lecture Notebooks](http://localhost:8888/notebooks/Quant-Research/Plotting_Data)] [[▶️Video](https://www.youtube.com/watch?v=nKq_wz3Qk8w)]\\\n",
    "Lecture 6: Means — [[📝Lecture Notebooks](http://localhost:8888/notebooks/Quant-Research/Means)] [[▶️Video](https://www.youtube.com/watch?v=XYbsBsRtCjw)]\\\n",
    "Lecture 7: Variance — [[📝Lecture Notebooks](http://localhost:8888/notebooks/Quant-Research/Variance)] [[▶️Video](https://www.youtube.com/watch?v=0AWY0odmjSs)]\\\n",
    "Lecture 8: Statistical Moments — [[📝Lecture Notebooks](http://localhost:8888/notebooks/Quant-Research/Statistical_Moments)] [[▶️Video](https://www.youtube.com/watch?v=mkVA_xUWDI0)]\\\n",
    "Lecture 9: Linear Correlation Analysis — [[📝Lecture Notebooks](http://localhost:8888/notebooks/Quant-Research/Linear_Correlation_Analysis)] [[▶️Video](https://www.youtube.com/watch?v=GM76JkrVmRk?t=2m6s)]\\\n",
    "Lecture 10: Instability of Estimates — [[📝Lecture Notebooks](http://localhost:8888/notebooks/Quant-Research/Instability_of_Estimates)] [[▶️Video](https://www.youtube.com/watch?v=2pbu3_6lF40)]\\\n",
    "Lecture 11: Random Variables — [[📝Lecture Notebooks](http://localhost:8888/notebooks/Quant-Research/Random_Variables)]\\\n",
    "Lecture 12: Linear Regression — [[📝Lecture Notebooks](http://localhost:8888/notebooks/Quant-Research/Linear_Regression)] [[▶️Video](https://www.youtube.com/watch?v=Af0l3TQJ3h8?t=3m36s)]\\\n",
    "Lecture 13: Maximum Likelihood Estimation — [[📝Lecture Notebooks](http://localhost:8888/notebooks/Quant-Research/Maximum_Likelihood_Estimation)]\\\n",
    "Lecture 14: Regression Model Instability — [[📝Lecture Notebooks](http://localhost:8888/notebooks/Quant-Research/Regression_Model_Instability)] [[▶️Video](https://www.youtube.com/watch?v=HMQ34PfhzGE)]\\\n",
    "Lecture 15: Multiple Linear Regression — [[📝Lecture Notebooks](http://localhost:8888/notebooks/Quant-Research/Multiple_Linear_Regression)]\\\n",
    "Lecture 16: Violations of Regression Models — [[📝Lecture Notebooks](http://localhost:8888/notebooks/Quant-Research/Violations_of_Regression_Models)] [[▶️Video](https://www.youtube.com/watch?v=xM94MRs8U3M)]\\\n",
    "Lecture 17: Model Misspecification — [[📝Lecture Notebooks](http://localhost:8888/notebooks/Quant-Research/Model_Misspecification)] [[▶️Video](https://www.youtube.com/watch?v=t4peS8Ak-sY)]\\\n",
    "Lecture 18: Residual Analysis — [[📝Lecture Notebooks](http://localhost:8888/notebooks/Quant-Research/Residuals_Analysis)]\\\n",
    "Lecture 19: The Dangers of Overfitting — [[📝Lecture Notebooks](http://localhost:8888/notebooks/Quant-Research/The_Dangers_of_Overfitting)] [[▶️Video](https://www.youtube.com/watch?v=KNCgvjyKrcw)]\\\n",
    "Lecture 20: Hypothesis Testing — [[📝Lecture Notebooks](http://localhost:8888/notebooks/Quant-Research/Hypothesis_Testing)]\\\n",
    "Lecture 21: Confidence Intervals — [[📝Lecture Notebooks](http://localhost:8888/notebooks/Quant-Research/Confidence_Intervals)]\\\n",
    "Lecture 22: p-Hacking and Multiple Comparisons Bias — [[📝Lecture Notebooks](http://localhost:8888/notebooks/Quant-Research/p-Hacking_and_Multiple_Comparisons_Bias)] [[▶️Video](https://www.youtube.com/watch?v=YiDfbYtgUPc)]\\\n",
    "Lecture 23: Spearman Rank Correlation — [[📝Lecture Notebooks](http://localhost:8888/notebooks/Quant-Research/Spearman_Rank_Correlation)] [[▶️Video](https://www.youtube.com/watch?v=GM76JkrVmRk?t=25m51s)]\\\n",
    "Lecture 24: Leverage — [[📝Lecture Notebooks](http://localhost:8888/notebooks/Quant-Research/Leverage)]\\\n",
    "Lecture 25: Position Concentration Risk — [[📝Lecture Notebooks](http://localhost:8888/notebooks/Quant-Research/Position_Concentration_Risk)] [[▶️Video](https://www.youtube.com/watch?v=I1z7B2_FarQ)]\\\n",
    "Lecture 26: Estimating Covariance Matrices — [[📝Lecture Notebooks](http://localhost:8888/notebooks/Quant-Research/Estimating_Covariance_Matrices)]\\\n",
    "Lecture 27: Introduction to Volume, Slippage, and Liquidity — [[📝Lecture Notebooks](http://localhost:8888/notebooks/Quant-Research/Introduction_to_Volume_Slippage_and_Liquidity)]\\\n",
    "Lecture 28: Market Impact Models — [[📝Lecture Notebooks](http://localhost:8888/notebooks/Quant-Research/Market_Impact_Model)]\\\n",
    "Lecture 29: Universe Selection — [[📝Lecture Notebooks](http://localhost:8888/notebooks/Quant-Research/Universe_Selection)] [[▶️Video](https://www.youtube.com/watch?v=oa5RhuHVbH0)]\\\n",
    "Lecture 30: The Capital Asset Pricing Model and Arbitrage Pricing Theory — [[📝Lecture Notebooks](http://localhost:8888/notebooks/Quant-Research/CAPM_and_Arbitrage_Pricing_Theory)]\\\n",
    "Lecture 31: Beta Hedging — [[📝Lecture Notebooks](http://localhost:8888/notebooks/Quant-Research/Beta_Hedging)] [[▶️Video](https://www.youtube.com/watch?v=Af0l3TQJ3h8?t=22m14s)]\\\n",
    "Lecture 32: Fundamental Factor Models — [[📝Lecture Notebooks](http://localhost:8888/notebooks/Quant-Research/Fundamental_Factor_Models)] [[▶️Video](https://www.youtube.com/watch?v=P16zDtf0CE0)]\\\n",
    "Lecture 33: Portfolio Analysis — [[📝Lecture Notebooks](http://localhost:8888/notebooks/Quant-Research/Portfolio_Analysis)]\\\n",
    "Lecture 34: Factor Risk Exposure — [[📝Lecture Notebooks](http://localhost:8888/notebooks/Quant-Research/Factor_Risk_Exposure)] [[▶️Video](https://www.youtube.com/watch?v=Ep8Y5JfQoRg)]\\\n",
    "Lecture 35: Risk-Constrained Portfolio Optimization — [[📝Lecture Notebooks](https://github.com/quantopian/research_public/blob/master/notebooks/lectures/Factor_Based_Risk_Management/notebook.ipynb)]\\\n",
    "Lecture 36: Principal Component Analysis — [[📝Lecture Notebooks](http://localhost:8888/notebooks/Quant-Research/PCA)]\\\n",
    "Lecture 37: Long-Short Equity — [[📝Lecture Notebooks](http://localhost:8888/notebooks/Quant-Research/Long-Short_Equity)]\\\n",
    "Lecture 38: Example: Long-Short Equity Algorithm — [[📝Lecture Notebooks](http://localhost:8888/notebooks/Quant-Research/Long-Short_Equity)]\\\n",
    "Lecture 39: Factor Analysis with Alphalens — [[📝Lecture Notebooks](http://localhost:8888/notebooks/Quant-Research/Factor_Analysis)] [[▶️Video](https://www.youtube.com/watch?v=v5IYcBxMDYE)]\\\n",
    "Lecture 40: Why You Should Hedge Beta and Sector Exposures (Part I) — [[📝Lecture Notebooks](http://localhost:8888/notebooks/Quant-Research/Why_Hedge_I)]\\\n",
    "Lecture 41: Why You Should Hedge Beta and Sector Exposures (Part II) — [[📝Lecture Notebooks](http://localhost:8888/notebooks/Quant-Research/Why_Hedge_II)]\\\n",
    "Lecture 42: VaR and CVaR — [[📝Lecture Notebooks](http://localhost:8888/notebooks/Quant-Research/VaR_and_CVaR)]\\\n",
    "Lecture 43: Integration, Cointegration, and Stationarity — [[📝Lecture Notebooks](http://localhost:8888/notebooks/Quant-Research/Integration_Cointegration_and_Stationarity)] [[Video](https://www.youtube.com/watch?v=Pn_RiDbK82M)]\\\n",
    "Lecture 44: Introduction to Pairs Trading — [[📝Lecture Notebooks](http://localhost:8888/notebooks/Quant-Research/Introduction_to_Pairs_Trading)] [[▶️Video](https://www.youtube.com/watch?v=JTucMRYMOyY)]\\\n",
    "Lecture 45: Example: Basic Pairs Trading Algorithm — [[📝Lecture Notebooks](http://localhost:8888/notebooks/Quant-Research/Introduction_to_Pairs_Trading)]\\\n",
    "Lecture 46: Example: Pairs Trading Algorithm — [[📝Lecture Notebooks](http://localhost:8888/notebooks/Quant-Research/Introduction_to_Pairs_Trading)]\\\n",
    "Lecture 47: Autocorrelation and AR Models — [[📝Lecture Notebooks](http://localhost:8888/notebooks/Quant-Research/Autocorrelation_and_AR_Models)] [[▶️Video](https://www.youtube.com/watch?v=fnrSZvla51Y)]\\\n",
    "Lecture 48: ARCH, GARCH, and GMM — [[📝Lecture Notebooks](http://localhost:8888/notebooks/Quant-Research/ARCH_GARCH_and_GMM)]\\\n",
    "Lecture 49: Kalman Filters — [[📝Lecture Notebooks](http://localhost:8888/notebooks/Quant-Research/Kalman_Filters)] [[▶️Video](https://www.youtube.com/watch?v=RxIdLu18SsE)]\\\n",
    "Lecture 50: Example: Kalman Filter Pairs Trade — [[📝Lecture Notebooks](http://localhost:8888/notebooks/Quant-Research/Kalman_Filters)]\\\n",
    "Lecture 51: Introduction to Futures — [[📝Lecture Notebooks](http://localhost:8888/notebooks/Quant-Research/Introduction_to_Futures)]\\\n",
    "Lecture 52: Futures Trading Considerations — [[📝Lecture Notebooks](http://localhost:8888/notebooks/Quant-Research/Futures_Trading_Considerations)]\\\n",
    "Lecture 53: Mean Reversion on Futures — [[📝Lecture Notebooks](http://localhost:8888/notebooks/Quant-Research/Mean_Reversion_on_Futures)]\\\n",
    "Lecture 54: Example: Pairs Trading on Futures — [[📝Lecture Notebooks](http://localhost:8888/notebooks/Quant-Research/Introduction_to_Pairs_Trading)]\\\n",
    "Lecture 55: Case Study: Traditional Value Factor — [[📝Lecture Notebooks](http://localhost:8888/notebooks/Quant-Research/Case_Study_Traditional_Value_Factor)]\\\n",
    "Lecture 56: Case Study: Comparing ETFs — [[📝Lecture Notebooks](http://localhost:8888/notebooks/Quant-Research/Case_Study_Comparing_ETFs)]"
   ]
  },
  {
   "cell_type": "code",
   "execution_count": null,
   "id": "6e58d355",
   "metadata": {},
   "outputs": [],
   "source": []
  }
 ],
 "metadata": {
  "kernelspec": {
   "display_name": "Python 3 (ipykernel)",
   "language": "python",
   "name": "python3"
  },
  "language_info": {
   "codemirror_mode": {
    "name": "ipython",
    "version": 3
   },
   "file_extension": ".py",
   "mimetype": "text/x-python",
   "name": "python",
   "nbconvert_exporter": "python",
   "pygments_lexer": "ipython3",
   "version": "3.8.13"
  }
 },
 "nbformat": 4,
 "nbformat_minor": 5
}
